{
 "cells": [
  {
   "cell_type": "markdown",
   "metadata": {
    "jupyter": {
     "source_hidden": true
    },
    "tags": []
   },
   "source": [
    "<p style=\"text-align:center\">\n",
    "    <a href=\"https://skills.network/?utm_medium=Exinfluencer&utm_source=Exinfluencer&utm_content=000026UJ&utm_term=10006555&utm_id=NA-SkillsNetwork-Channel-SkillsNetworkCoursesIBMDS0321ENSkillsNetwork865-2022-01-01\" target=\"_blank\">\n",
    "    <img src=\"https://cf-courses-data.s3.us.cloud-object-storage.appdomain.cloud/assets/logos/SN_web_lightmode.png\" width=\"200\" alt=\"Skills Network Logo\"  />\n",
    "    </a>\n",
    "</p>\n",
    "\n",
    "<h1 align=center><font size = 5>Assignment: SQL Notebook for Peer Assignment</font></h1>\n",
    "\n",
    "Estimated time needed: **60** minutes.\n",
    "\n",
    "## Introduction\n",
    "Using this Python notebook you will:\n",
    "\n",
    "1.  Understand the Spacex DataSet\n",
    "2.  Load the dataset  into the corresponding table in a Db2 database\n",
    "3.  Execute SQL queries to answer assignment questions \n"
   ]
  },
  {
   "cell_type": "markdown",
   "metadata": {},
   "source": [
    "## Overview of the DataSet\n",
    "\n",
    "SpaceX has gained worldwide attention for a series of historic milestones. \n",
    "\n",
    "It is the only private company ever to return a spacecraft from low-earth orbit, which it first accomplished in December 2010.\n",
    "SpaceX advertises Falcon 9 rocket launches on its website with a cost of 62 million dollars wheras other providers cost upward of 165 million dollars each, much of the savings is because Space X can reuse the first stage. \n",
    "\n",
    "\n",
    "Therefore if we can determine if the first stage will land, we can determine the cost of a launch. \n",
    "\n",
    "This information can be used if an alternate company wants to bid against SpaceX for a rocket launch.\n",
    "\n",
    "This dataset includes a record for each payload carried during a SpaceX mission into outer space.\n"
   ]
  },
  {
   "cell_type": "code",
   "execution_count": null,
   "metadata": {
    "tags": []
   },
   "outputs": [],
   "source": [
    "!pip install sqlalchemy==1.3.9\n",
    "!pip install ibm_db_sa\n",
    "!pip install ipython-sql\n",
    "\n",
    "Requirement already satisfied: sqlalchemy==1.3.9 in c:\\python39\\lib\\site-packages (1.3.9)\n",
    "WARNING: Ignoring invalid distribution -ip (c:\\python39\\lib\\site-packages)\n",
    "WARNING: Ignoring invalid distribution -ip (c:\\python39\\lib\\site-packages)\n",
    "WARNING: You are using pip version 21.1.3; however, version 21.2.4 is available.\n",
    "You should consider upgrading via the 'c:\\python39\\python.exe -m pip install --upgrade pip' command.\n",
    "Requirement already satisfied: ibm_db_sa in c:\\python39\\lib\\site-packages (0.3.7)\n",
    "WARNING: Ignoring invalid distribution -ip (c:\\python39\\lib\\site-packages)\n",
    "WARNING: Ignoring invalid distribution -ip (c:\\python39\\lib\\site-packages)\n",
    "WARNING: You are using pip version 21.1.3; however, version 21.2.4 is available.\n",
    "You should consider upgrading via the 'c:\\python39\\python.exe -m pip install --upgrade pip' command.\n",
    "Requirement already satisfied: sqlalchemy>=0.7.3 in c:\\python39\\lib\\site-packages (from ibm_db_sa) (1.3.9)\n",
    "Requirement already satisfied: ibm-db>=2.0.0 in c:\\python39\\lib\\site-packages (from ibm_db_sa) (3.0.4)\n",
    "Requirement already satisfied: ipython-sql in c:\\python39\\lib\\site-packages (0.4.0)\n",
    "Requirement already satisfied: sqlparse in c:\\python39\\lib\\site-packages (from ipython-sql) (0.4.1)\n",
    "Requirement already satisfied: ipython>=1.0 in c:\\users\\asus\\appdata\\roaming\\python\\python39\\site-packages (from ipython-sql) (7.22.0)\n",
    "Requirement already satisfied: six in c:\\python39\\lib\\site-packages (from ipython-sql) (1.15.0)\n",
    "Requirement already satisfied: ipython-genutils>=0.1.0 in c:\\python39\\lib\\site-packages (from ipython-sql) (0.2.0)\n",
    "Requirement already satisfied: sqlalchemy>=0.6.7 in c:\\python39\\lib\\site-packages (from ipython-sql) (1.3.9)\n",
    "Requirement already satisfied: prettytable<1 in c:\\python39\\lib\\site-packages (from ipython-sql) (0.7.2)\n",
    "Requirement already satisfied: backcall in c:\\users\\asus\\appdata\\roaming\\python\\python39\\site-packages (from ipython>=1.0->ipython-sql) (0.2.0)\n",
    "Requirement already satisfied: setuptools>=18.5 in c:\\users\\asus\\appdata\\roaming\\python\\python39\\site-packages (from ipython>=1.0->ipython-sql) (57.0.0)\n",
    "Requirement already satisfied: pygments in c:\\users\\asus\\appdata\\roaming\\python\\python39\\site-packages (from ipython>=1.0->ipython-sql) (2.8.1)\n",
    "Requirement already satisfied: colorama in c:\\users\\asus\\appdata\\roaming\\python\\python39\\site-packages (from ipython>=1.0->ipython-sql) (0.4.4)\n",
    "Requirement already satisfied: traitlets>=4.2 in c:\\python39\\lib\\site-packages (from ipython>=1.0->ipython-sql) (5.0.5)\n",
    "Requirement already satisfied: decorator in c:\\users\\asus\\appdata\\roaming\\python\\python39\\site-packages (from ipython>=1.0->ipython-sql) (4.4.2)\n",
    "Requirement already satisfied: prompt-toolkit!=3.0.0,!=3.0.1,<3.1.0,>=2.0.0 in c:\\users\\asus\\appdata\\roaming\\python\\python39\\site-packages (from ipython>=1.0->ipython-sql) (3.0.18)\n",
    "Requirement already satisfied: jedi>=0.16 in c:\\users\\asus\\appdata\\roaming\\python\\python39\\site-packages (from ipython>=1.0->ipython-sql) (0.18.0)\n",
    "Requirement already satisfied: pickleshare in c:\\users\\asus\\appdata\\roaming\\python\\python39\\site-packages (from ipython>=1.0->ipython-sql) (0.7.5)\n",
    "Requirement already satisfied: parso<0.9.0,>=0.8.0 in c:\\users\\asus\\appdata\\roaming\\python\\python39\\site-packages (from jedi>=0.16->ipython>=1.0->ipython-sql) (0.8.1)\n",
    "Requirement already satisfied: wcwidth in c:\\users\\asus\\appdata\\roaming\\python\\python39\\site-packages (from prompt-toolkit!=3.0.0,!=3.0.1,<3.1.0,>=2.0.0->ipython>=1.0->ipython-sql) (0.2.5)\n",
    "WARNING: Ignoring invalid distribution -ip (c:\\python39\\lib\\site-packages)\n",
    "WARNING: Ignoring invalid distribution -ip (c:\\python39\\lib\\site-packages)\n",
    "WARNING: You are using pip version 21.1.3; however, version 21.2.4 is available.\n",
    "You should consider upgrading via the 'c:\\python39\\python.exe -m pip install --upgrade pip' command.\n",
    "Connect to the database\n",
    "Let us first load the SQL extension and establish a connection with the database\n",
    "\n",
    "%load_ext sql\n",
    "\n",
    "DB2 magic in case of old UI service credentials.\n",
    "\n",
    "In the next cell enter your db2 connection string. Recall you created Service Credentials for your Db2 instance before. From the uri field of your Db2 service credentials copy everything after db2:// (except the double quote at the end) and paste it in the cell below after ibm_db_sa://\n",
    "\n",
    "\n",
    "in the following format\n",
    "\n",
    "%sql ibm_db_sa://my-username:my-password@my-hostname:my-port/my-db-name\n",
    "\n",
    "DB2 magic in case of new UI service credentials.\n",
    "\n",
    "DB2 magic in case of old UI service credentials.\n",
    "\n",
    "In the next cell enter your db2 connection string. Recall you created Service Credentials for your Db2 instance before. From the uri field of your Db2 service credentials copy everything after db2:// (except the double quote at the end) and paste it in the cell below after ibm_db_sa://\n",
    "\n",
    "\n",
    "in the following format\n",
    "\n",
    "%sql ibm_db_sa://my-username:my-password@my-hostname:my-port/my-db-name\n",
    "\n",
    "DB2 magic in case of new UI service credentials.\n",
    "\n",
    "\n",
    "Tasks\n",
    "Now write and execute SQL queries to solve the assignment tasks.\n",
    "\n",
    "Task 1\n",
    "Display the names of the unique launch sites in the space mission\n",
    "%sql SELECT DISTINCT LAUNCH_SITE FROM SPACEXTBL;\n",
    " * ibm_db_sa://zjc92139:***@dashdb-txn-sbox-yp-dal09-14.services.dal.bluemix.net:50000/BLUDB\n",
    "Done.\n",
    "\n",
    "launch_site\n",
    "CCAFS LC-40\n",
    "CCAFS SLC-40\n",
    "KSC LC-39A\n",
    "VAFB SLC-4E\n",
    "Task 2\n",
    "Display 5 records where launch sites begin with the string 'CCA'\n",
    "%sql SELECT * FROM SPACEXTBL WHERE S\n",
    "\n",
    "\n",
    "\n"
   ]
  },
  {
   "cell_type": "code",
   "execution_count": null,
   "metadata": {
    "tags": []
   },
   "outputs": [],
   "source": []
  },
  {
   "cell_type": "code",
   "execution_count": null,
   "metadata": {
    "tags": []
   },
   "outputs": [],
   "source": [
    "import csv, sqlite3\n",
    "\n",
    "con = sqlite3.connect(\"my_data1.db\")\n",
    "cur = con.cursor()"
   ]
  },
  {
   "cell_type": "code",
   "execution_count": null,
   "metadata": {
    "tags": []
   },
   "outputs": [],
   "source": [
    "!pip install -q pandas==1.1.5"
   ]
  },
  {
   "cell_type": "code",
   "execution_count": null,
   "metadata": {
    "tags": []
   },
   "outputs": [],
   "source": [
    "%sql sqlite:///my_data1.db"
   ]
  },
  {
   "cell_type": "code",
   "execution_count": null,
   "metadata": {
    "tags": []
   },
   "outputs": [],
   "source": [
    "import pandas as pd\n",
    "df = pd.read_csv(\"https://cf-courses-data.s3.us.cloud-object-storage.appdomain.cloud/IBM-DS0321EN-SkillsNetwork/labs/module_2/data/Spacex.csv\")\n",
    "df.to_sql(\"SPACEXTBL\", con, if_exists='replace', index=False,method=\"multi\")"
   ]
  },
  {
   "cell_type": "markdown",
   "metadata": {
    "tags": []
   },
   "source": [
    "Tasks\n",
    "\n",
    "Now write and execute SQL queries to solve the assignment tasks.\n",
    "\n",
    "\n",
    "\n",
    "Task 1\n",
    "\n",
    "Display the names of the unique launch sites  in the space mission\n"
   ]
  },
  {
   "cell_type": "code",
   "execution_count": null,
   "metadata": {
    "tags": []
   },
   "outputs": [],
   "source": [
    "sql SELECT DISTINCT LAUNCH_SITE FROM SPACEXTBL ORDER BY 1;\n",
    " * ibm_db_sa://fvp19040:***@54a2f15b-5c0f-46df-8954-7e38e612c2bd.c1ogj3sd0tgtu0lqde00.databases.appdomain.cloud:32733/bludb\n",
    "\n",
    "* sqlite:///my_data1.db\n",
    "Done.\n",
    "\n",
    "launch_site\n",
    "\n",
    "CCAFS LC-40\n",
    "\n",
    "CCAFS SLC-40\n",
    "\n",
    "KSC LC-39A\n",
    "\n",
    "VAFB SLC-4E\n"
   ]
  },
  {
   "cell_type": "markdown",
   "metadata": {
    "tags": []
   },
   "source": [
    "\n",
    "Task 2\n",
    "\n",
    "\n",
    "Display 5 records where launch sites begin with the string 'CCA' \n"
   ]
  },
  {
   "cell_type": "code",
   "execution_count": null,
   "metadata": {
    "tags": []
   },
   "outputs": [],
   "source": [
    "sql SELECT * FROM SPACEXTBL WHERE LAUNCH_SITE LIKE 'CCA%' LIMIT 5;\n",
    " * ibm_db_sa://fvp19040:***@54a2f15b-5c0f-46df-8954-7e38e612c2bd.c1ogj3sd0tgtu0lqde00.databases.appdomain.cloud:32733/bludb\n",
    "\n",
    " \n",
    "* sqlite:///my_data1.db\n",
    "Done.\n",
    "\n",
    "              Date      Time  \tBooster Version   Launchsite              Payload     Payload Mass Kg     Orbit Customer  Mission Outcome       Landing Outcome\n",
    "\n",
    "    0   2010-04-06  18:45:00      F9 v1.0 B0003  CCAFS LC-40    Dragon Spacecraft     \n",
    "                                                               Qualification Unit                   0       LEO  SpaceX           Success   Failure (parachute)\n",
    "\n",
    "    1   2010-08-12  15:43:00      F9 v1.0 B0004  CCAFS LC-40          Dragon demo                   0       LEO    NASA           Success   Failure (parachute)\n",
    "                                                                        flight C1                          (ISS)  (COTS)\n",
    "                                                                                                                    NRO\n",
    "                                                                                                \n",
    "\n",
    "    2   2012-05-22  07:44:00      F9 v1.0 B0005  CCAFS LC-40           Dragon demo                 525      LEO    NASA           Success            No attempt \n",
    "                                                                         flight C2                         (ISS)  (COTS)\n",
    "                                                                                               \n",
    "                                                            \n",
    "    3   2012-08-10  00:35:00      F9 v1.0 B0006  CCAFS LC-40          SpaceX CRS-1                 500      LEO    NASA           Success            No attempt \n",
    "                                                                                                           (ISS)   (CRS)\n",
    "\n",
    "    4   2013-01-03  15:10:00      F9 v1.0 B0007  CCAFS LC-40          SpaceX CRS-2                 677      LEO    NASA           Success            No attempt\n",
    "                                                                                                           (ISS)   (CRS)\n",
    "        \n",
    "        \n",
    "        \n",
    "        \n",
    "        \n",
    "        \n",
    "        \n",
    "        \n",
    "        "
   ]
  },
  {
   "cell_type": "markdown",
   "metadata": {
    "tags": []
   },
   "source": [
    "Task 3\n",
    "\n",
    "Display the total payload mass carried by boosters launched by NASA (CRS)\n"
   ]
  },
  {
   "cell_type": "code",
   "execution_count": null,
   "metadata": {},
   "outputs": [],
   "source": [
    "sql SELECT SUM(PAYLOAD_MASS__KG_) AS TOTAL_PAYLOAD FROM SPACEXTBL WHERE PAYLOAD  LIKE '%CRS%';\n",
    " * ibm_db_sa://fvp19040:***@54a2f15b-5c0f-46df-8954-7e38e612c2bd.c1ogj3sd0tgtu0lqde00.databases.appdomain.cloud:32733/bludb\n",
    "\n",
    "* sqlite:///my_data1.db\n",
    "Done.\n",
    "\n",
    "total_payload\n",
    "    \n",
    "       111268\n"
   ]
  },
  {
   "cell_type": "markdown",
   "metadata": {},
   "source": [
    "### Task 4\n",
    "\n",
    "\n",
    "\n",
    "\n",
    "##### Display average payload mass carried by booster version F9 v1.1\n"
   ]
  },
  {
   "cell_type": "code",
   "execution_count": null,
   "metadata": {},
   "outputs": [],
   "source": [
    "sql SELECT AVG(PAYLOAD_MASS__KG_) AS AVG_PAYLOAD FROM SPACEXTBL WHERE BOOSTER_VERSION = 'F9 v1.1';\n",
    " * ibm_db_sa://fvp19040:***@54a2f15b-5c0f-46df-8954-7e38e612c2bd.c1ogj3sd0tgtu0lqde00.databases.appdomain.cloud:32733/bludb\n",
    "\n",
    "* sqlite:///my_data1.db\n",
    "Done.\n",
    "\n",
    "avg_payload\n",
    "\n",
    "       2928\n",
    "\n"
   ]
  },
  {
   "cell_type": "markdown",
   "metadata": {},
   "source": [
    "Task 5\n",
    "\n",
    "List the date when the first succesful landing outcome in ground pad was acheived.\n",
    "\n",
    "_Hint:Use min function_ \n"
   ]
  },
  {
   "cell_type": "code",
   "execution_count": null,
   "metadata": {},
   "outputs": [],
   "source": [
    "sql SELECT MIN(DATE) AS FIRST_SUCCESS_GP FROM SPACEXTBL WHERE LANDING__OUTCOME = 'Success (ground pad)';\n",
    " * ibm_db_sa://fvp19040:***@54a2f15b-5c0f-46df-8954-7e38e612c2bd.c1ogj3sd0tgtu0lqde00.databases.appdomain.cloud:32733/bludb\n",
    "\n",
    "* sqlite:///my_data1.db\n",
    "Done.\n",
    "    \n",
    "    first_success_gp\n",
    "\n",
    "      2015-12-22\n",
    "\n"
   ]
  },
  {
   "cell_type": "markdown",
   "metadata": {},
   "source": [
    "### Task 6\n",
    "\n",
    "##### List the names of the boosters which have success in drone ship and have payload mass greater than 4000 but less than 6000\n"
   ]
  },
  {
   "cell_type": "code",
   "execution_count": null,
   "metadata": {},
   "outputs": [],
   "source": [
    "sql SELECT DISTINCT BOOSTER_VERSION FROM SPACEXTBL WHERE PAYLOAD_MASS__KG_ BETWEEN 4000 AND 6000 AND LANDING__OUTCOME = 'Success (drone ship)';\n",
    " * ibm_db_sa://fvp19040:***@54a2f15b-5c0f-46df-8954-7e38e612c2bd.c1ogj3sd0tgtu0lqde00.databases.appdomain.cloud:32733/bludb\n",
    "\n",
    "* sqlite:///my_data1.db\n",
    "Done.\n",
    "\n",
    "booster_version\n",
    "\n",
    "  F9 FT B1021.2\n",
    "\n",
    "  F9 FT B1031.2\n",
    "\n",
    "  F9 FT B1022\n",
    "\n",
    "  F9 FT B1026\n",
    "\n"
   ]
  },
  {
   "cell_type": "markdown",
   "metadata": {},
   "source": [
    "### Task 7\n",
    "\n",
    "\n",
    "\n",
    "\n",
    "##### List the total number of successful and failure mission outcomes\n"
   ]
  },
  {
   "cell_type": "code",
   "execution_count": null,
   "metadata": {},
   "outputs": [],
   "source": [
    "sql SELECT MISSION_OUTCOME, COUNT(*) AS QTY FROM SPACEXTBL GROUP BY MISSION_OUTCOME ORDER BY MISSION_OUTCOME;\n",
    " * ibm_db_sa://fvp19040:***@54a2f15b-5c0f-46df-8954-7e38e612c2bd.c1ogj3sd0tgtu0lqde00.databases.appdomain.cloud:32733/bludb\n",
    "\n",
    "  * sqlite:///my_data1.db\n",
    "Done.\n",
    "\n",
    "              mission_outcome\tqty\n",
    "\n",
    "             Failure (in flight) 1           1\n",
    "\n",
    "                        Success\t99\n",
    "\n",
    "Success (payload status unclear) 1\n",
    "\n"
   ]
  },
  {
   "cell_type": "markdown",
   "metadata": {},
   "source": [
    "### Task 8\n",
    "\n",
    "\n",
    "\n",
    "##### List the   names of the booster_versions which have carried the maximum payload mass. Use a subquery\n"
   ]
  },
  {
   "cell_type": "code",
   "execution_count": null,
   "metadata": {},
   "outputs": [],
   "source": [
    "sql SELECT DISTINCT BOOSTER_VERSION FROM SPACEXTBL WHERE PAYLOAD_MASS__KG_ = (SELECT MAX(PAYLOAD_MASS__KG_) FROM SPACEXTBL) ORDER BY BOOSTER_VERSION;\n",
    " * ibm_db_sa://fvp19040:***@54a2f15b-5c0f-46df-8954-7e38e612c2bd.c1ogj3sd0tgtu0lqde00.databases.appdomain.cloud:32733/bludb\n",
    "\n",
    "* sqlite:///my_data1.db\n",
    "Done.\n",
    "    \n",
    "    booster_version\n",
    "    \n",
    "  F9 B5 B1048.4\n",
    "\n",
    "  F9 B5 B1048.5\n",
    "\n"
   ]
  },
  {
   "cell_type": "markdown",
   "metadata": {},
   "source": [
    "### Task 9\n",
    "\n",
    "\n",
    "##### List the records which will display the month names, failure landing_outcomes in drone ship ,booster versions, launch_site for the months in year 2015.\n",
    "\n",
    "**Note: SQLLite does not support monthnames. So you need to use  substr(Date, 4, 2) as month to get the months and substr(Date,7,4)='2015' for year.**\n"
   ]
  },
  {
   "cell_type": "code",
   "execution_count": null,
   "metadata": {},
   "outputs": [],
   "source": [
    "sql SELECT BOOSTER_VERSION, LAUNCH_SITE FROM SPACEXTBL WHERE LANDING__OUTCOME = 'Failure (drone ship)' AND DATE_PART('YEAR', DATE) = 2015;\n",
    " * ibm_db_sa://fvp19040:***@54a2f15b-5c0f-46df-8954-7e38e612c2bd.c1ogj3sd0tgtu0lqde00.databases.appdomain.cloud:32733/bludb\n",
    "\n",
    "* sqlite:///my_data1.db\n",
    "Done. \n",
    "\n",
    "booster_version\tlaunch_site\n",
    "\n",
    "F9 v1.1 B1012\tCCAFS LC-40\n",
    "\n",
    "F9 v1.1 B1015\tCCAFS LC-40\n",
    "\n"
   ]
  },
  {
   "cell_type": "markdown",
   "metadata": {},
   "source": [
    "### Task 10\n",
    "\n",
    "\n",
    "\n",
    "\n",
    "##### Rank the  count of  successful landing_outcomes between the date 04-06-2010 and 20-03-2017 in descending order.\n"
   ]
  },
  {
   "cell_type": "code",
   "execution_count": null,
   "metadata": {},
   "outputs": [],
   "source": [
    "sql SELECT LANDING__OUTCOME, COUNT(*) AS QTY FROM SPACEXTBL WHERE DATE BETWEEN '2010-06-04' AND '2017-03-20' GROUP BY LANDING__OUTCOME ORDER BY QTY DESC;\n",
    " * ibm_db_sa://fvp19040:***@54a2f15b-5c0f-46df-8954-7e38e612c2bd.c1ogj3sd0tgtu0lqde00.databases.appdomain.cloud:32733/bludb\n",
    "\n",
    "* sqlite:///my_data1.db\n",
    "Done.  \n",
    "\n",
    "landing__outcome      qty\n",
    "\n",
    "          No attempt   10\n",
    "\n",
    "Failure (drone ship)   \t5\n",
    "\n",
    "Success (drone ship)\t5\n",
    "\n",
    "Controlled (ocean)  \t3\n",
    "\n",
    "Success (ground pad)\t3\n",
    "\n",
    "Failure (parachute) \t2\n",
    "\n",
    "Uncontrolled (ocean)\t2\n",
    "\n",
    "Precluded (drone ship)\t1\n",
    "\n"
   ]
  },
  {
   "cell_type": "markdown",
   "metadata": {},
   "source": [
    "### Reference Links\n",
    "\n",
    "* <a href =\"https://cf-courses-data.s3.us.cloud-object-storage.appdomain.cloud/IBMDeveloperSkillsNetwork-DB0201EN-SkillsNetwork/labs/Labs_Coursera_V5/labs/Lab%20-%20String%20Patterns%20-%20Sorting%20-%20Grouping/instructional-labs.md.html?origin=www.coursera.org\">Hands-on Lab : String Patterns, Sorting and Grouping</a>  \n",
    "\n",
    "*  <a  href=\"https://cf-courses-data.s3.us.cloud-object-storage.appdomain.cloud/IBMDeveloperSkillsNetwork-DB0201EN-SkillsNetwork/labs/Labs_Coursera_V5/labs/Lab%20-%20Built-in%20functions%20/Hands-on_Lab__Built-in_Functions.md.html?origin=www.coursera.org\">Hands-on Lab: Built-in functions</a>\n",
    "\n",
    "*  <a  href=\"https://cf-courses-data.s3.us.cloud-object-storage.appdomain.cloud/IBMDeveloperSkillsNetwork-DB0201EN-SkillsNetwork/labs/Labs_Coursera_V5/labs/Lab%20-%20Sub-queries%20and%20Nested%20SELECTs%20/instructional-labs.md.html?origin=www.coursera.org\">Hands-on Lab : Sub-queries and Nested SELECT Statements</a>\n",
    "\n",
    "*   <a href=\"https://cf-courses-data.s3.us.cloud-object-storage.appdomain.cloud/IBMDeveloperSkillsNetwork-DB0201EN-SkillsNetwork/labs/Module%205/DB0201EN-Week3-1-3-SQLmagic.ipynb\">Hands-on Tutorial: Accessing Databases with SQL magic</a>\n",
    "\n",
    "*  <a href= \"https://cf-courses-data.s3.us.cloud-object-storage.appdomain.cloud/IBMDeveloperSkillsNetwork-DB0201EN-SkillsNetwork/labs/Module%205/DB0201EN-Week3-1-4-Analyzing.ipynb\">Hands-on Lab: Analyzing a real World Data Set</a>\n",
    "\n",
    "\n"
   ]
  },
  {
   "cell_type": "markdown",
   "metadata": {
    "jp-MarkdownHeadingCollapsed": true,
    "tags": []
   },
   "source": [
    "\n"
   ]
  },
  {
   "cell_type": "markdown",
   "metadata": {},
   "source": [
    "## Other Contributors\n",
    "\n",
    "<h4> Rav Ahuja </h4>\n"
   ]
  },
  {
   "cell_type": "markdown",
   "metadata": {},
   "source": [
    "## Change log\n",
    "| Date | Version | Changed by | Change Description |\n",
    "|------|--------|--------|---------|\n",
    "| 2021-07-09 | 0.2 |Lakshmi Holla | Changes made in magic sql|\n",
    "| 2021-05-20 | 0.1 |Lakshmi Holla | Created Initial Version |\n"
   ]
  },
  {
   "cell_type": "markdown",
   "metadata": {},
   "source": [
    "## <h3 align=\"center\"> © IBM Corporation 2021. All rights reserved. <h3/>\n"
   ]
  }
 ],
 "metadata": {
  "kernelspec": {
   "display_name": "Python",
   "language": "python",
   "name": "conda-env-python-py"
  },
  "language_info": {
   "codemirror_mode": {
    "name": "ipython",
    "version": 3
   },
   "file_extension": ".py",
   "mimetype": "text/x-python",
   "name": "python",
   "nbconvert_exporter": "python",
   "pygments_lexer": "ipython3",
   "version": "3.7.12"
  }
 },
 "nbformat": 4,
 "nbformat_minor": 4
}
